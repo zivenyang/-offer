{
 "cells": [
  {
   "cell_type": "markdown",
   "metadata": {},
   "source": [
    "# 面试题3：数组中重复的数字\n",
    "在一个长度为n的数组里的所有数字都在0到n-1的范围内。 数组中某些数字是重复的，但不知道有几个数字是重复的。也不知道每个数字重复几次。请找出数组中任意一个重复的数字。 例如，如果输入长度为7的数组{2,3,1,0,2,5,3}，那么对应的输出是第一个重复的数字2。"
   ]
  },
  {
   "cell_type": "code",
   "execution_count": 23,
   "metadata": {
    "collapsed": true
   },
   "outputs": [],
   "source": [
    "# -*- coding:utf-8 -*-\n",
    "class Solution:\n",
    "    # 这里要特别注意~找到任意重复的一个值并赋值到duplication[0]\n",
    "    # 函数返回True/False\n",
    "    def duplicate(self, numbers, duplication):\n",
    "        # write code here\n",
    "        n = len(numbers)\n",
    "        if n == 0:\n",
    "            return False\n",
    "        elif max(numbers) > n:\n",
    "            return False\n",
    "        else:\n",
    "            for i in range(n):\n",
    "                if numbers[i] == i:\n",
    "                    i += 1\n",
    "                else:\n",
    "                    m = numbers[i]\n",
    "                    if numbers[m]== m:\n",
    "                        duplication[0] = m\n",
    "                        return True\n",
    "                    else:\n",
    "                        numbers[i] = numbers[m]\n",
    "                        numbers[m] = m\n",
    "                        i += 1\n",
    "        return False"
   ]
  },
  {
   "cell_type": "markdown",
   "metadata": {},
   "source": [
    "#### 恭喜你通过本题\n",
    "运行时间：38ms  \n",
    "占用内存：5732k"
   ]
  },
  {
   "cell_type": "code",
   "execution_count": 22,
   "metadata": {
    "collapsed": true
   },
   "outputs": [],
   "source": [
    "# -*- coding:utf-8 -*-\n",
    "class Solution:\n",
    "    # 这里要特别注意~找到任意重复的一个值并赋值到duplication[0]\n",
    "    # 函数返回True/False\n",
    "    def duplicate(self, numbers, duplication):\n",
    "        # write code here\n",
    "        temp = []\n",
    "        for i in range(len(numbers)):\n",
    "            if numbers[i] in temp:\n",
    "                duplication[0] = numbers[i]\n",
    "                return True\n",
    "            else:\n",
    "                temp.append(numbers[i])\n",
    "        return False"
   ]
  },
  {
   "cell_type": "markdown",
   "metadata": {},
   "source": [
    "#### 恭喜你通过本题\n",
    "运行时间：29ms  \n",
    "占用内存：5728k"
   ]
  },
  {
   "cell_type": "code",
   "execution_count": 18,
   "metadata": {},
   "outputs": [
    {
     "data": {
      "text/plain": [
       "False"
      ]
     },
     "execution_count": 18,
     "metadata": {},
     "output_type": "execute_result"
    }
   ],
   "source": [
    "numbers = [0, 1, 2, 3]\n",
    "duplication = [-1]\n",
    "\n",
    "Solution().duplicate(numbers=numbers, duplication=duplication)"
   ]
  },
  {
   "cell_type": "code",
   "execution_count": 19,
   "metadata": {},
   "outputs": [
    {
     "data": {
      "text/plain": [
       "False"
      ]
     },
     "execution_count": 19,
     "metadata": {},
     "output_type": "execute_result"
    }
   ],
   "source": [
    "numbers = []\n",
    "duplication = [-1]\n",
    "\n",
    "Solution().duplicate(numbers=numbers, duplication=duplication)"
   ]
  },
  {
   "cell_type": "code",
   "execution_count": 21,
   "metadata": {},
   "outputs": [
    {
     "data": {
      "text/plain": [
       "True"
      ]
     },
     "execution_count": 21,
     "metadata": {},
     "output_type": "execute_result"
    }
   ],
   "source": [
    "numbers = [0, 3, 2, 1, 3]\n",
    "duplication = [-1]\n",
    "\n",
    "Solution().duplicate(numbers=numbers, duplication=duplication)"
   ]
  }
 ],
 "metadata": {
  "kernelspec": {
   "display_name": "Python 3",
   "language": "python",
   "name": "python3"
  },
  "language_info": {
   "codemirror_mode": {
    "name": "ipython",
    "version": 3
   },
   "file_extension": ".py",
   "mimetype": "text/x-python",
   "name": "python",
   "nbconvert_exporter": "python",
   "pygments_lexer": "ipython3",
   "version": "3.6.3"
  }
 },
 "nbformat": 4,
 "nbformat_minor": 2
}
